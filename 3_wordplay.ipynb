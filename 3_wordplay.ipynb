{
 "cells": [
  {
   "cell_type": "code",
   "execution_count": 2,
   "id": "896da387-3700-4459-9a11-8a315dd1af84",
   "metadata": {},
   "outputs": [
    {
     "name": "stdout",
     "output_type": "stream",
     "text": [
      "    words  length  qwerty  dvorak  colemak  workman  qwerty_home  dvorak_home  \\\n",
      "0      AA       2    0.00    0.00     0.00     0.00       100.00       100.00   \n",
      "1     AAA       3    0.00    0.00     0.00     0.00       100.00       100.00   \n",
      "2     AAH       3   95.25  114.30    95.25    38.10        66.67       100.00   \n",
      "3   AAHED       5  179.67  247.65   190.50   253.93        60.00        80.00   \n",
      "4  AAHING       6  212.92  275.51   237.41   266.70        33.33        66.67   \n",
      "\n",
      "   colemak_home  workman_home  \n",
      "0        100.00        100.00  \n",
      "1        100.00        100.00  \n",
      "2         66.67        100.00  \n",
      "3         60.00         80.00  \n",
      "4         66.67         83.33  \n"
     ]
    }
   ],
   "source": [
    "# the fun bit, looking at the data, making visualizations, finding longest/shortest words by travel distance\n",
    "import pandas as pd\n",
    "\n",
    "df = pd.read_csv('word_distances.csv', keep_default_na = False)\n",
    "layouts = ['qwerty', 'dvorak', 'colemak', 'workman']\n",
    "print(df.head())"
   ]
  },
  {
   "cell_type": "code",
   "execution_count": 3,
   "id": "d9fba94c-e3c0-4bc5-98db-81cbbe97c122",
   "metadata": {},
   "outputs": [
    {
     "name": "stdout",
     "output_type": "stream",
     "text": [
      "    words  length  qwerty  dvorak  colemak  workman  qwerty_home  dvorak_home  \\\n",
      "0      AA       2    0.00    0.00     0.00     0.00       100.00       100.00   \n",
      "1     AAA       3    0.00    0.00     0.00     0.00       100.00       100.00   \n",
      "2     AAH       3   95.25  114.30    95.25    38.10        66.67       100.00   \n",
      "3   AAHED       5  179.67  247.65   190.50   253.93        60.00        80.00   \n",
      "4  AAHING       6  212.92  275.51   237.41   266.70        33.33        66.67   \n",
      "\n",
      "   colemak_home  workman_home  qw_dpl  dv_dpl  co_dpl  wo_dpl  qw_dpj  dv_dpj  \\\n",
      "0        100.00        100.00   0.000   0.000   0.000   0.000   0.000   0.000   \n",
      "1        100.00        100.00   0.000   0.000   0.000   0.000   0.000   0.000   \n",
      "2         66.67        100.00  31.750  38.100  31.750  12.700  47.625  57.150   \n",
      "3         60.00         80.00  35.934  49.530  38.100  50.786  44.918  61.912   \n",
      "4         66.67         83.33  35.487  45.918  39.568  44.450  42.584  55.102   \n",
      "\n",
      "   co_dpj  wo_dpj  \n",
      "0   0.000   0.000  \n",
      "1   0.000   0.000  \n",
      "2  47.625  19.050  \n",
      "3  47.625  63.482  \n",
      "4  47.482  53.340  \n"
     ]
    }
   ],
   "source": [
    "#distance per letter for each word\n",
    "df['qw_dpl'] = round(df['qwerty'] / df['length'], 3)\n",
    "df['dv_dpl'] = round(df['dvorak'] / df['length'], 3)\n",
    "df['co_dpl'] = round(df['colemak'] / df['length'], 3)\n",
    "df['wo_dpl'] = round(df['workman'] / df['length'], 3)\n",
    "\n",
    "#distance per jump for each word\n",
    "df['qw_dpj'] = round(df['qwerty'] / (df['length']-1), 3)\n",
    "df['dv_dpj'] = round(df['dvorak'] / (df['length']-1), 3)\n",
    "df['co_dpj'] = round(df['colemak'] / (df['length']-1), 3)\n",
    "df['wo_dpj'] = round(df['workman'] / (df['length']-1), 3)\n",
    "\n",
    "print(df.head())"
   ]
  },
  {
   "cell_type": "code",
   "execution_count": 4,
   "id": "dc8e02d1-6ee3-44d0-b873-014fae061c51",
   "metadata": {},
   "outputs": [
    {
     "name": "stdout",
     "output_type": "stream",
     "text": [
      "{'qwerty': ['qwerty', 'qw_dpl', 'qw_dpj'], 'dvorak': ['dvorak', 'dv_dpl', 'dv_dpj'], 'colemak': ['colemak', 'co_dpl', 'co_dpj'], 'workman': ['workman', 'wo_dpl', 'wo_dpj']}\n"
     ]
    }
   ],
   "source": [
    "col_names = {}\n",
    "for ly in layouts:\n",
    "    cols = [ly, ly[:2]+'_dpl', ly[:2]+'_dpj']\n",
    "    col_names.update({ly:cols})\n",
    "    \n",
    "print(col_names)"
   ]
  },
  {
   "cell_type": "code",
   "execution_count": 17,
   "id": "04ed53bd-708b-4ef0-9d2d-6ef328060890",
   "metadata": {},
   "outputs": [],
   "source": [
    "#get top 20 for particular measure and save to csv\n",
    "def analysis(measure, name):\n",
    "    df_output = pd.DataFrame()\n",
    "    df_output['rank'] = range(1, 21)\n",
    "    for ly in layouts:\n",
    "        cols_out = ['words'] + col_names[ly]\n",
    "        df.sort_values(by=cols_out[measure], inplace = True, ascending = False)\n",
    "        df_new = df[cols_out].head(20)\n",
    "        df_new.rename(columns = {'words':ly[:2]+'_words'}, inplace = True)\n",
    "        df_new['rank'] = range(1,21)\n",
    "        df_output = pd.merge(df_output, df_new, on='rank')\n",
    "    filename = 'top20_' + name + '.csv'\n",
    "    df_output.to_csv(filename, index = False)"
   ]
  },
  {
   "cell_type": "code",
   "execution_count": 18,
   "id": "8b835d7a-2c20-46c8-b37b-4ee55fdf53cb",
   "metadata": {},
   "outputs": [],
   "source": [
    "names = ['length', 'dpl', 'dpj']\n",
    "for i, val in enumerate(names):\n",
    "    analysis(i+1, val)"
   ]
  },
  {
   "cell_type": "code",
   "execution_count": null,
   "id": "ffbc8152-7467-46c0-b7d0-32dae2bcbf87",
   "metadata": {},
   "outputs": [],
   "source": [
    "'''Below this point is still in progress'''"
   ]
  },
  {
   "cell_type": "code",
   "execution_count": null,
   "id": "ec15dd45-ca06-4a47-8941-cee9f5865e56",
   "metadata": {},
   "outputs": [],
   "source": [
    "def shortest(length):\n",
    "    #10 shortest for each length\n",
    "    #df_add - 2 columns to start: length and rank\n",
    "    #same format as above, layouts across\n",
    "    #return df_add"
   ]
  },
  {
   "cell_type": "code",
   "execution_count": 26,
   "id": "b4454b42-b8c9-4938-a433-a772f5881680",
   "metadata": {},
   "outputs": [
    {
     "name": "stdout",
     "output_type": "stream",
     "text": [
      "       words  dvorak\n",
      "138118   HHD   19.05\n",
      "361487   VSS   21.30\n",
      "368493   XII   21.30\n",
      "160720   JEE   21.30\n",
      "368685   XXI   21.30\n",
      "       words  dvorak\n",
      "368686  XXII   21.30\n",
      "368494  XIII   21.30\n",
      "146755  IEEE   38.10\n",
      "361626  VVLL   38.40\n",
      "103116  EPPY   42.86\n",
      "        words  dvorak\n",
      "368687  XXIII   21.30\n",
      "256825  PUPPY   58.33\n",
      "164527  KIKKI   63.90\n",
      "230221  PEPPY   66.67\n",
      "229042  PEEPY   66.67\n",
      "         words  dvorak\n",
      "86669   DIPPPY   68.59\n",
      "147153  YIPPEE   73.94\n",
      "354882  UPPUFF   77.68\n",
      "164447  KIDDIE   97.50\n",
      "33098   BHIKKU  102.00\n",
      "          words  dvorak\n",
      "256831  PUPPIFY  112.63\n",
      "124718  GIDDIFY  119.36\n",
      "85309   DIFFIDE  142.87\n",
      "229037  PEEPEYE  148.23\n",
      "258516  QUIDDIT  148.64\n",
      "           words  dvorak\n",
      "103356  EQUIPPED  186.14\n",
      "57312   CYDIPPID  186.72\n",
      "364757  WHIGGIFY  192.10\n",
      "38073   BOOKKEEP  197.26\n",
      "84691   DIBBUKIM  198.57\n"
     ]
    }
   ],
   "source": [
    "#3 - shortest word by travel distance by number of letters\n",
    "df_len = df[df['dvorak'] != 0]\n",
    "for i in range(3, 9):\n",
    "    df_lens = df_len[df_len['length'] == i]\n",
    "    df_lenshow = df_lens.sort_values(by = 'dvorak', ascending = True)\n",
    "    print(df_lenshow[['words', 'dvorak']].head(5))"
   ]
  },
  {
   "cell_type": "code",
   "execution_count": 22,
   "id": "3d0734b5-f513-4132-8e5d-fbcb2a643946",
   "metadata": {},
   "outputs": [
    {
     "data": {
      "image/png": "[encoded data removed]",
      "text/plain": [
       "<Figure size 432x288 with 1 Axes>"
      ]
     },
     "metadata": {
      "needs_background": "light"
     },
     "output_type": "display_data"
    }
   ],
   "source": [
    "import matplotlib.pyplot as plt\n",
    "\n",
    "plt.scatter(df['length'], df['qw_dpj'], color = 'red', alpha = 0.01, label = 'qwerty')\n",
    "plt.scatter(df['length'], df['dv_dpj'], color = 'blue', alpha = 0.01, label = 'dvorak')\n",
    "plt.scatter(df['length'], df['co_dpj'], color = 'green', alpha = 0.01, label = 'colemak')\n",
    "plt.scatter(df['length'], df['wo_dpj'], color = 'gray', alpha = 0.01, label = 'workman')\n",
    "\n",
    "\n",
    "plt.xlabel('Word length (letters)')\n",
    "plt.ylabel('Travel Distance per Jump (mm)')\n",
    "\n",
    "plt.legend(loc = 'lower right')\n",
    "plt.title('Keyboard Travel Distance by Word Length')\n",
    "\n",
    "plt.show()"
   ]
  },
  {
   "cell_type": "code",
   "execution_count": 37,
   "id": "1eeb88b2-e4eb-4163-9bb1-43cb531e5635",
   "metadata": {},
   "outputs": [
    {
     "data": {
      "image/png": "[encoded data removed]",
      "text/plain": [
       "<Figure size 432x288 with 1 Axes>"
      ]
     },
     "metadata": {
      "needs_background": "light"
     },
     "output_type": "display_data"
    }
   ],
   "source": [
    "import seaborn as sns\n",
    "\n",
    "sns.regplot(x='length', y='dvorak', data=df, color='blue', scatter=None)\n",
    "sns.regplot(x='length', y='qwerty', data=df, color='red', scatter=None)\n",
    "sns.regplot(x='length', y='colemak', data=df, color='green', scatter=None)\n",
    "sns.regplot(x='length', y='workman', data=df, color='gray', scatter=None)\n",
    "\n",
    "plt.show()"
   ]
  },
  {
   "cell_type": "code",
   "execution_count": 43,
   "id": "01de0501-5c84-4ad3-a40e-f356fd8c3c44",
   "metadata": {},
   "outputs": [
    {
     "data": {
      "text/html": [
       "<div>\n",
       "<style scoped>\n",
       "    .dataframe tbody tr th:only-of-type {\n",
       "        vertical-align: middle;\n",
       "    }\n",
       "\n",
       "    .dataframe tbody tr th {\n",
       "        vertical-align: top;\n",
       "    }\n",
       "\n",
       "    .dataframe thead th {\n",
       "        text-align: right;\n",
       "    }\n",
       "</style>\n",
       "<table border=\"1\" class=\"dataframe\">\n",
       "  <thead>\n",
       "    <tr style=\"text-align: right;\">\n",
       "      <th></th>\n",
       "      <th>length</th>\n",
       "      <th>qwerty</th>\n",
       "      <th>dvorak</th>\n",
       "      <th>colemak</th>\n",
       "      <th>workman</th>\n",
       "      <th>qw_dpl</th>\n",
       "      <th>dv_dpl</th>\n",
       "      <th>cl_dpl</th>\n",
       "      <th>wk_dpl</th>\n",
       "      <th>qw_dpj</th>\n",
       "      <th>dv_dpj</th>\n",
       "      <th>cl_dpj</th>\n",
       "      <th>wk_dpj</th>\n",
       "    </tr>\n",
       "  </thead>\n",
       "  <tbody>\n",
       "    <tr>\n",
       "      <th>count</th>\n",
       "      <td>370059.000000</td>\n",
       "      <td>370059.000000</td>\n",
       "      <td>370059.000000</td>\n",
       "      <td>370059.000000</td>\n",
       "      <td>370059.000000</td>\n",
       "      <td>370059.000000</td>\n",
       "      <td>370059.000000</td>\n",
       "      <td>370059.000000</td>\n",
       "      <td>370059.000000</td>\n",
       "      <td>370059.000000</td>\n",
       "      <td>370059.000000</td>\n",
       "      <td>370059.000000</td>\n",
       "      <td>370059.000000</td>\n",
       "    </tr>\n",
       "    <tr>\n",
       "      <th>mean</th>\n",
       "      <td>9.443435</td>\n",
       "      <td>540.471413</td>\n",
       "      <td>707.077586</td>\n",
       "      <td>597.542731</td>\n",
       "      <td>622.092560</td>\n",
       "      <td>56.459074</td>\n",
       "      <td>73.708418</td>\n",
       "      <td>62.388329</td>\n",
       "      <td>64.818133</td>\n",
       "      <td>64.000535</td>\n",
       "      <td>83.503368</td>\n",
       "      <td>70.700027</td>\n",
       "      <td>73.426031</td>\n",
       "    </tr>\n",
       "    <tr>\n",
       "      <th>std</th>\n",
       "      <td>2.915340</td>\n",
       "      <td>219.972870</td>\n",
       "      <td>281.827110</td>\n",
       "      <td>239.964927</td>\n",
       "      <td>254.332937</td>\n",
       "      <td>12.841879</td>\n",
       "      <td>15.203724</td>\n",
       "      <td>13.592962</td>\n",
       "      <td>14.543855</td>\n",
       "      <td>14.575114</td>\n",
       "      <td>16.975119</td>\n",
       "      <td>15.267430</td>\n",
       "      <td>16.225446</td>\n",
       "    </tr>\n",
       "    <tr>\n",
       "      <th>min</th>\n",
       "      <td>2.000000</td>\n",
       "      <td>19.050000</td>\n",
       "      <td>19.050000</td>\n",
       "      <td>19.050000</td>\n",
       "      <td>19.050000</td>\n",
       "      <td>6.350000</td>\n",
       "      <td>4.260000</td>\n",
       "      <td>4.762000</td>\n",
       "      <td>6.350000</td>\n",
       "      <td>9.525000</td>\n",
       "      <td>5.325000</td>\n",
       "      <td>6.350000</td>\n",
       "      <td>9.525000</td>\n",
       "    </tr>\n",
       "    <tr>\n",
       "      <th>25%</th>\n",
       "      <td>7.000000</td>\n",
       "      <td>380.540000</td>\n",
       "      <td>503.670000</td>\n",
       "      <td>421.350000</td>\n",
       "      <td>436.180000</td>\n",
       "      <td>47.867000</td>\n",
       "      <td>63.851000</td>\n",
       "      <td>53.322000</td>\n",
       "      <td>55.191000</td>\n",
       "      <td>54.269000</td>\n",
       "      <td>72.398000</td>\n",
       "      <td>60.421500</td>\n",
       "      <td>62.590000</td>\n",
       "    </tr>\n",
       "    <tr>\n",
       "      <th>50%</th>\n",
       "      <td>9.000000</td>\n",
       "      <td>517.100000</td>\n",
       "      <td>679.610000</td>\n",
       "      <td>573.600000</td>\n",
       "      <td>595.970000</td>\n",
       "      <td>56.345000</td>\n",
       "      <td>74.127000</td>\n",
       "      <td>62.316000</td>\n",
       "      <td>64.611000</td>\n",
       "      <td>63.367000</td>\n",
       "      <td>83.315000</td>\n",
       "      <td>70.143000</td>\n",
       "      <td>72.732000</td>\n",
       "    </tr>\n",
       "    <tr>\n",
       "      <th>75%</th>\n",
       "      <td>11.000000</td>\n",
       "      <td>676.540000</td>\n",
       "      <td>882.710000</td>\n",
       "      <td>749.400000</td>\n",
       "      <td>782.560000</td>\n",
       "      <td>64.783000</td>\n",
       "      <td>83.953000</td>\n",
       "      <td>71.403000</td>\n",
       "      <td>74.273000</td>\n",
       "      <td>72.864000</td>\n",
       "      <td>94.298000</td>\n",
       "      <td>80.375000</td>\n",
       "      <td>83.581000</td>\n",
       "    </tr>\n",
       "    <tr>\n",
       "      <th>max</th>\n",
       "      <td>31.000000</td>\n",
       "      <td>2119.490000</td>\n",
       "      <td>2427.090000</td>\n",
       "      <td>2558.520000</td>\n",
       "      <td>2390.000000</td>\n",
       "      <td>139.114000</td>\n",
       "      <td>147.436000</td>\n",
       "      <td>127.073000</td>\n",
       "      <td>132.145000</td>\n",
       "      <td>171.450000</td>\n",
       "      <td>181.970000</td>\n",
       "      <td>171.450000</td>\n",
       "      <td>177.240000</td>\n",
       "    </tr>\n",
       "  </tbody>\n",
       "</table>\n",
       "</div>"
      ],
      "text/plain": [
       "              length         qwerty         dvorak        colemak  \\\n",
       "count  370059.000000  370059.000000  370059.000000  370059.000000   \n",
       "mean        9.443435     540.471413     707.077586     597.542731   \n",
       "std         2.915340     219.972870     281.827110     239.964927   \n",
       "min         2.000000      19.050000      19.050000      19.050000   \n",
       "25%         7.000000     380.540000     503.670000     421.350000   \n",
       "50%         9.000000     517.100000     679.610000     573.600000   \n",
       "75%        11.000000     676.540000     882.710000     749.400000   \n",
       "max        31.000000    2119.490000    2427.090000    2558.520000   \n",
       "\n",
       "             workman         qw_dpl         dv_dpl         cl_dpl  \\\n",
       "count  370059.000000  370059.000000  370059.000000  370059.000000   \n",
       "mean      622.092560      56.459074      73.708418      62.388329   \n",
       "std       254.332937      12.841879      15.203724      13.592962   \n",
       "min        19.050000       6.350000       4.260000       4.762000   \n",
       "25%       436.180000      47.867000      63.851000      53.322000   \n",
       "50%       595.970000      56.345000      74.127000      62.316000   \n",
       "75%       782.560000      64.783000      83.953000      71.403000   \n",
       "max      2390.000000     139.114000     147.436000     127.073000   \n",
       "\n",
       "              wk_dpl         qw_dpj         dv_dpj         cl_dpj  \\\n",
       "count  370059.000000  370059.000000  370059.000000  370059.000000   \n",
       "mean       64.818133      64.000535      83.503368      70.700027   \n",
       "std        14.543855      14.575114      16.975119      15.267430   \n",
       "min         6.350000       9.525000       5.325000       6.350000   \n",
       "25%        55.191000      54.269000      72.398000      60.421500   \n",
       "50%        64.611000      63.367000      83.315000      70.143000   \n",
       "75%        74.273000      72.864000      94.298000      80.375000   \n",
       "max       132.145000     171.450000     181.970000     171.450000   \n",
       "\n",
       "              wk_dpj  \n",
       "count  370059.000000  \n",
       "mean       73.426031  \n",
       "std        16.225446  \n",
       "min         9.525000  \n",
       "25%        62.590000  \n",
       "50%        72.732000  \n",
       "75%        83.581000  \n",
       "max       177.240000  "
      ]
     },
     "execution_count": 43,
     "metadata": {},
     "output_type": "execute_result"
    }
   ],
   "source": [
    "df.describe()"
   ]
  }
 ],
 "metadata": {
  "kernelspec": {
   "display_name": "Python 3",
   "language": "python",
   "name": "python3"
  },
  "language_info": {
   "codemirror_mode": {
    "name": "ipython",
    "version": 3
   },
   "file_extension": ".py",
   "mimetype": "text/x-python",
   "name": "python",
   "nbconvert_exporter": "python",
   "pygments_lexer": "ipython3",
   "version": "3.9.4"
  }
 },
 "nbformat": 4,
 "nbformat_minor": 5
}
