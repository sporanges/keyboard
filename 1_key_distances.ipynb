{
 "cells": [
  {
   "cell_type": "code",
   "execution_count": 1,
   "id": "ee97df84-f2a3-49ca-a62d-11a20e3469f6",
   "metadata": {},
   "outputs": [
    {
     "name": "stdout",
     "output_type": "stream",
     "text": [
      "   row  row_index  x-coord  y-coord qwerty dvorak colemak workman  home_row\n",
      "0    1          1     0.00      0.0      Q      '       Q       Q     False\n",
      "1    1          2    19.05      0.0      W      ,       W       D     False\n",
      "2    1          3    38.10      0.0      E      .       F       R     False\n",
      "3    1          4    57.15      0.0      R      P       P       W     False\n",
      "4    1          5    76.20      0.0      T      Y       G       B     False\n",
      "['distance', 'qwerty', 'dvorak', 'colemak', 'workman']\n"
     ]
    }
   ],
   "source": [
    "import pandas as pd\n",
    "import math\n",
    "\n",
    "coords = pd.read_csv('src_key_coords.csv')\n",
    "print(coords.head())\n",
    "\n",
    "layouts = ['qwerty', 'dvorak', 'colemak', 'workman']\n",
    "cols = ['distance'] + layouts\n",
    "print(cols)"
   ]
  },
  {
   "cell_type": "code",
   "execution_count": 2,
   "id": "e0e745d2-0275-4510-87b5-b0f312ed36ee",
   "metadata": {},
   "outputs": [
    {
     "name": "stdout",
     "output_type": "stream",
     "text": [
      "   distance qwerty dvorak colemak workman\n",
      "0      0.00     QQ     ''      QQ      QQ\n",
      "1     19.05     QW     ',      QW      QD\n",
      "2     38.10     QE     '.      QF      QR\n",
      "3     57.15     QR     'P      QP      QW\n",
      "4     76.20     QT     'Y      QG      QB\n"
     ]
    }
   ],
   "source": [
    "df_dist = pd.DataFrame(columns = cols)\n",
    "\n",
    "for i in range(coords.shape[0]):\n",
    "    x1 = coords['x-coord'][i]\n",
    "    y1 = coords['y-coord'][i]\n",
    "    for j in range(coords.shape[0]):\n",
    "        x2 = coords['x-coord'][j]\n",
    "        y2 = coords['y-coord'][j]\n",
    "        dist = round(math.sqrt((x1-x2)**2 + (y1-y2)**2) , 2)\n",
    "        lets = []\n",
    "        for ly in layouts:\n",
    "            lets.append(coords[ly][i] + coords[ly][j])\n",
    "        row = [dist] + lets\n",
    "        df_dist = df_dist.append(pd.DataFrame([row], columns = cols), ignore_index = True)\n",
    "\n",
    "print(df_dist.head())"
   ]
  },
  {
   "cell_type": "code",
   "execution_count": 3,
   "id": "3b4bb23d-a0f5-47d6-adb8-1e88a2577133",
   "metadata": {},
   "outputs": [],
   "source": [
    "df_dist.to_csv('pair_distances.csv', index = False)"
   ]
  }
 ],
 "metadata": {
  "kernelspec": {
   "display_name": "Python 3",
   "language": "python",
   "name": "python3"
  },
  "language_info": {
   "codemirror_mode": {
    "name": "ipython",
    "version": 3
   },
   "file_extension": ".py",
   "mimetype": "text/x-python",
   "name": "python",
   "nbconvert_exporter": "python",
   "pygments_lexer": "ipython3",
   "version": "3.9.4"
  }
 },
 "nbformat": 4,
 "nbformat_minor": 5
}
