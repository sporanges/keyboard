{
 "cells": [
  {
   "cell_type": "code",
   "execution_count": 19,
   "id": "46200c60-2504-4ab7-98fe-ba38b10a0741",
   "metadata": {},
   "outputs": [
    {
     "name": "stdout",
     "output_type": "stream",
     "text": [
      "    words  length\n",
      "0      AA       2\n",
      "1     AAA       3\n",
      "2     AAH       3\n",
      "3   AAHED       5\n",
      "4  AAHING       6\n",
      "(370077, 2)\n",
      "   distance qwerty dvorak colemak workman\n",
      "0      0.00     QQ     ''      QQ      QQ\n",
      "1     19.05     QW     ',      QW      QD\n",
      "2     38.10     QE     '.      QF      QR\n",
      "3     57.15     QR     'P      QP      QW\n",
      "4     76.20     QT     'Y      QG      QB\n",
      "    row  row_index   x-coord  y-coord qwerty dvorak colemak workman  home_row\n",
      "10    2          1    4.7625    19.05      A      A       A       A      True\n",
      "11    2          2   23.8125    19.05      S      O       R       S      True\n",
      "12    2          3   42.8625    19.05      D      E       S       H      True\n",
      "13    2          4   61.9125    19.05      F      U       T       T      True\n",
      "16    2          7  119.0625    19.05      J      H       N       N      True\n"
     ]
    }
   ],
   "source": [
    "#does the main math\n",
    "#calculates total travel distance for all words in src_words_alpha.txt by layout\n",
    "#calculates percent of characters that are in the home row for each word by layout\n",
    "\n",
    "import pandas as pd\n",
    "from collections import Counter\n",
    "pd.options.mode.chained_assignment = None\n",
    "\n",
    "df = pd.read_csv('words_alpha.csv', keep_default_na=False)\n",
    "df_dist = pd.read_csv('pair_distances.csv', keep_default_na=False)\n",
    "df_home = pd.read_csv('src_key_coords.csv', keep_default_na=False)\n",
    "df_home = df_home[df_home['home_row']]\n",
    "\n",
    "layouts = ['qwerty', 'dvorak', 'colemak', 'workman']"
   ]
  },
  {
   "cell_type": "code",
   "execution_count": 20,
   "id": "1c1065f8-4150-437e-bee3-a751ae4cbb3a",
   "metadata": {},
   "outputs": [],
   "source": [
    "#split words into character pairs to calculate travel\n",
    "#convert into counter dict to accout for repeats\n",
    "def splitwords(word):\n",
    "    pairs = [word[x]+word[x+1] for x in range(len(word)-1)]\n",
    "    return Counter(pairs)"
   ]
  },
  {
   "cell_type": "code",
   "execution_count": 21,
   "id": "f2e91140-3f3c-462d-b8d6-bd9a20d604af",
   "metadata": {},
   "outputs": [
    {
     "name": "stdout",
     "output_type": "stream",
     "text": [
      "    words  length                                          pairs\n",
      "0      AA       2                                      {'AA': 1}\n",
      "1     AAA       3                                      {'AA': 2}\n",
      "2     AAH       3                             {'AA': 1, 'AH': 1}\n",
      "3   AAHED       5           {'AA': 1, 'AH': 1, 'HE': 1, 'ED': 1}\n",
      "4  AAHING       6  {'AA': 1, 'AH': 1, 'HI': 1, 'IN': 1, 'NG': 1}\n"
     ]
    }
   ],
   "source": [
    "df['pairs'] = df['words'].apply(splitwords).tolist()\n",
    "print(df.head())"
   ]
  },
  {
   "cell_type": "code",
   "execution_count": 24,
   "id": "7156f9b0-2b38-41a2-acfb-70d35a7d12dd",
   "metadata": {},
   "outputs": [],
   "source": [
    "#calculates travel distance for each word based on layout\n",
    "def wdist(letters, layout):\n",
    "    dist = 0\n",
    "    vals = set(letters.values())\n",
    "    \n",
    "    for val in vals:\n",
    "        keys = [key for key, value in letters.items() if value == val]\n",
    "        dist += (df_dist[df_dist[layout].isin(keys)]['distance'].sum()) * val\n",
    "    return round(dist, 2)"
   ]
  },
  {
   "cell_type": "code",
   "execution_count": 25,
   "id": "bc7ccc4f-52bb-49d8-8800-959bcb819992",
   "metadata": {},
   "outputs": [
    {
     "name": "stdout",
     "output_type": "stream",
     "text": [
      "qwerty completed\n",
      "dvorak completed\n",
      "colemak completed\n",
      "workman completed\n",
      "\n",
      "    words  length                                          pairs  qwerty  \\\n",
      "0      AA       2                                      {'AA': 1}    0.00   \n",
      "1     AAA       3                                      {'AA': 2}    0.00   \n",
      "2     AAH       3                             {'AA': 1, 'AH': 1}   95.25   \n",
      "3   AAHED       5           {'AA': 1, 'AH': 1, 'HE': 1, 'ED': 1}  179.67   \n",
      "4  AAHING       6  {'AA': 1, 'AH': 1, 'HI': 1, 'IN': 1, 'NG': 1}  212.92   \n",
      "\n",
      "   dvorak  colemak  workman  \n",
      "0    0.00     0.00     0.00  \n",
      "1    0.00     0.00     0.00  \n",
      "2  114.30    95.25    38.10  \n",
      "3  247.65   190.50   253.93  \n",
      "4  275.51   237.41   266.70  \n"
     ]
    }
   ],
   "source": [
    "#loop through the layouts, run calculations\n",
    "#took ~4 minutes per layout on last run\n",
    "for ly in layouts:\n",
    "    df[ly] = df['pairs'].apply(wdist, layout=ly).tolist()\n",
    "    print(ly + ' completed')\n",
    "print()\n",
    "print(df.head())"
   ]
  },
  {
   "cell_type": "code",
   "execution_count": 26,
   "id": "f27a60f9-9742-41b1-9952-739f8ec5da40",
   "metadata": {},
   "outputs": [],
   "source": [
    "#calculate percentage of characters in each word in the home row\n",
    "def home_row(word, layout):\n",
    "    wlist = list(word)\n",
    "    home = sum(item in layout for item in wlist)\n",
    "    phome = (home / len(word)) * 100\n",
    "    return round(phome, 2)"
   ]
  },
  {
   "cell_type": "code",
   "execution_count": 27,
   "id": "0b5dc860-2c8b-4c5c-b34e-a6bbeb6f2bee",
   "metadata": {},
   "outputs": [
    {
     "name": "stdout",
     "output_type": "stream",
     "text": [
      "qwerty completed\n",
      "dvorak completed\n",
      "colemak completed\n",
      "workman completed\n",
      "\n",
      "    words  length                                          pairs  qwerty  \\\n",
      "0      AA       2                                      {'AA': 1}    0.00   \n",
      "1     AAA       3                                      {'AA': 2}    0.00   \n",
      "2     AAH       3                             {'AA': 1, 'AH': 1}   95.25   \n",
      "3   AAHED       5           {'AA': 1, 'AH': 1, 'HE': 1, 'ED': 1}  179.67   \n",
      "4  AAHING       6  {'AA': 1, 'AH': 1, 'HI': 1, 'IN': 1, 'NG': 1}  212.92   \n",
      "\n",
      "   dvorak  colemak  workman  qwerty_home  dvorak_home  colemak_home  \\\n",
      "0    0.00     0.00     0.00       100.00       100.00        100.00   \n",
      "1    0.00     0.00     0.00       100.00       100.00        100.00   \n",
      "2  114.30    95.25    38.10        66.67       100.00         66.67   \n",
      "3  247.65   190.50   253.93        60.00        80.00         60.00   \n",
      "4  275.51   237.41   266.70        33.33        66.67         66.67   \n",
      "\n",
      "   workman_home  \n",
      "0        100.00  \n",
      "1        100.00  \n",
      "2        100.00  \n",
      "3         80.00  \n",
      "4         83.33  \n"
     ]
    }
   ],
   "source": [
    "for ly in layouts:\n",
    "    colname = ly + '_home'\n",
    "    lylist = df_home[ly].to_list()\n",
    "    df[colname] = df['words'].apply(home_row, layout=lylist).tolist()\n",
    "    print(ly + ' completed')\n",
    "print()\n",
    "print(df.head())"
   ]
  },
  {
   "cell_type": "code",
   "execution_count": 30,
   "id": "90396d1a-f0d4-4bdf-852e-0020c174d864",
   "metadata": {},
   "outputs": [
    {
     "name": "stdout",
     "output_type": "stream",
     "text": [
      "    words  length  qwerty  dvorak  colemak  workman  qwerty_home  dvorak_home  \\\n",
      "0      AA       2    0.00    0.00     0.00     0.00       100.00       100.00   \n",
      "1     AAA       3    0.00    0.00     0.00     0.00       100.00       100.00   \n",
      "2     AAH       3   95.25  114.30    95.25    38.10        66.67       100.00   \n",
      "3   AAHED       5  179.67  247.65   190.50   253.93        60.00        80.00   \n",
      "4  AAHING       6  212.92  275.51   237.41   266.70        33.33        66.67   \n",
      "\n",
      "   colemak_home  workman_home  \n",
      "0        100.00        100.00  \n",
      "1        100.00        100.00  \n",
      "2         66.67        100.00  \n",
      "3         60.00         80.00  \n",
      "4         66.67         83.33  \n",
      "(370077, 10)\n"
     ]
    }
   ],
   "source": [
    "#drop pairs column, only needed for calculations\n",
    "df.drop(columns = 'pairs', inplace = True)\n",
    "print(df.head())\n",
    "print(df.shape)"
   ]
  },
  {
   "cell_type": "code",
   "execution_count": 31,
   "id": "da2574a4-b58c-48c9-ad6f-3067cfad4b67",
   "metadata": {},
   "outputs": [
    {
     "name": "stdout",
     "output_type": "stream",
     "text": [
      "done\n"
     ]
    }
   ],
   "source": [
    "#export to csv\n",
    "df.to_csv('word_distances.csv', index = False)\n",
    "print('done')"
   ]
  }
 ],
 "metadata": {
  "kernelspec": {
   "display_name": "Python 3",
   "language": "python",
   "name": "python3"
  },
  "language_info": {
   "codemirror_mode": {
    "name": "ipython",
    "version": 3
   },
   "file_extension": ".py",
   "mimetype": "text/x-python",
   "name": "python",
   "nbconvert_exporter": "python",
   "pygments_lexer": "ipython3",
   "version": "3.9.4"
  }
 },
 "nbformat": 4,
 "nbformat_minor": 5
}
