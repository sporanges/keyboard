{
 "cells": [
  {
   "cell_type": "code",
   "execution_count": 57,
   "id": "896da387-3700-4459-9a11-8a315dd1af84",
   "metadata": {},
   "outputs": [
    {
     "name": "stdout",
     "output_type": "stream",
     "text": [
      "    words  length  qwerty  dvorak  colemak  workman  qwerty_home  dvorak_home  \\\n",
      "0      AA       2    0.00    0.00     0.00     0.00       100.00       100.00   \n",
      "1     AAA       3    0.00    0.00     0.00     0.00       100.00       100.00   \n",
      "2     AAH       3   95.25  114.30    95.25    38.10        66.67       100.00   \n",
      "3   AAHED       5  179.67  247.65   190.50   253.93        60.00        80.00   \n",
      "4  AAHING       6  212.92  275.51   237.41   266.70        33.33        66.67   \n",
      "\n",
      "   colemak_home  workman_home  \n",
      "0        100.00        100.00  \n",
      "1        100.00        100.00  \n",
      "2         66.67        100.00  \n",
      "3         60.00         80.00  \n",
      "4         66.67         83.33  \n"
     ]
    }
   ],
   "source": [
    "# the fun bit, looking at the data, making visualizations, finding longest/shortest words by travel distance\n",
    "import pandas as pd\n",
    "pd.options.mode.chained_assignment = None\n",
    "\n",
    "df = pd.read_csv('word_distances.csv', keep_default_na = False)\n",
    "layouts = ['qwerty', 'dvorak', 'colemak', 'workman']\n",
    "measures = ['dist', 'dpl', 'dpj']\n",
    "print(df.head())"
   ]
  },
  {
   "cell_type": "code",
   "execution_count": 58,
   "id": "64e394a0-6c4b-4bf2-a583-210799fd30b0",
   "metadata": {},
   "outputs": [
    {
     "name": "stdout",
     "output_type": "stream",
     "text": [
      "    words  length layouts    dist\n",
      "0      AA       2  qwerty    0.00\n",
      "1     AAA       3  qwerty    0.00\n",
      "2     AAH       3  qwerty   95.25\n",
      "3   AAHED       5  qwerty  179.67\n",
      "4  AAHING       6  qwerty  212.92\n",
      "    words  length layouts    home\n",
      "0      AA       2  qwerty  100.00\n",
      "1     AAA       3  qwerty  100.00\n",
      "2     AAH       3  qwerty   66.67\n",
      "3   AAHED       5  qwerty   60.00\n",
      "4  AAHING       6  qwerty   33.33\n"
     ]
    }
   ],
   "source": [
    "df_a = df.melt(id_vars = ['words', 'length'], value_vars = layouts, var_name = 'layouts', value_name = 'dist')\n",
    "df_b = df.melt(id_vars = ['words', 'length'], value_vars = layouts_home, var_name = 'layouts', value_name = 'home')\n",
    "df_b['layouts'] = df_b['layouts'].str.replace('_home', '')\n",
    "print(df_a.head())\n",
    "print(df_b.head())"
   ]
  },
  {
   "cell_type": "code",
   "execution_count": 59,
   "id": "fbc27725-5622-4a36-998a-8435a74c5b53",
   "metadata": {},
   "outputs": [
    {
     "name": "stdout",
     "output_type": "stream",
     "text": [
      "    words  length layouts    dist    home\n",
      "0      AA       2  qwerty    0.00  100.00\n",
      "1     AAA       3  qwerty    0.00  100.00\n",
      "2     AAH       3  qwerty   95.25   66.67\n",
      "3   AAHED       5  qwerty  179.67   60.00\n",
      "4  AAHING       6  qwerty  212.92   33.33\n"
     ]
    }
   ],
   "source": [
    "df_merged = pd.merge(df_a, df_b, on = ['words', 'length', 'layouts'])\n",
    "print(df_merged.head())"
   ]
  },
  {
   "cell_type": "code",
   "execution_count": 60,
   "id": "d9fba94c-e3c0-4bc5-98db-81cbbe97c122",
   "metadata": {},
   "outputs": [
    {
     "name": "stdout",
     "output_type": "stream",
     "text": [
      "    words  length layouts    dist    home     dpl     dpj\n",
      "0      AA       2  qwerty    0.00  100.00   0.000   0.000\n",
      "1     AAA       3  qwerty    0.00  100.00   0.000   0.000\n",
      "2     AAH       3  qwerty   95.25   66.67  31.750  47.625\n",
      "3   AAHED       5  qwerty  179.67   60.00  35.934  44.918\n",
      "4  AAHING       6  qwerty  212.92   33.33  35.487  42.584\n"
     ]
    }
   ],
   "source": [
    "#distance per letter for each word\n",
    "df_merged['dpl'] = round(df_merged['dist'] / df_merged['length'], 3)\n",
    "\n",
    "#distance per jump for each word\n",
    "df_merged['dpj'] = round(df_merged['dist'] / (df_merged['length']-1), 3)\n",
    "\n",
    "print(df_merged.head())"
   ]
  },
  {
   "cell_type": "code",
   "execution_count": 63,
   "id": "ffbc8152-7467-46c0-b7d0-32dae2bcbf87",
   "metadata": {},
   "outputs": [
    {
     "name": "stdout",
     "output_type": "stream",
     "text": [
      "    words  length layouts    dist    home     dpl     dpj\n",
      "2     AAH       3  qwerty   95.25   66.67  31.750  47.625\n",
      "3   AAHED       5  qwerty  179.67   60.00  35.934  44.918\n",
      "4  AAHING       6  qwerty  212.92   33.33  35.487  42.584\n",
      "5    AAHS       4  qwerty  171.45   75.00  42.862  57.150\n",
      "6     AAL       3  qwerty  152.40  100.00  50.800  76.200\n"
     ]
    }
   ],
   "source": [
    "df_merged = df_merged[df_merged['dist'] > 0]\n",
    "print(df_merged.head())"
   ]
  },
  {
   "cell_type": "code",
   "execution_count": 64,
   "id": "04ed53bd-708b-4ef0-9d2d-6ef328060890",
   "metadata": {},
   "outputs": [],
   "source": [
    "#get top 20 for particular measure and save to csv\n",
    "def analysis(layout):\n",
    "    df_output = pd.DataFrame()\n",
    "    df_subset = df_merged[df_merged['layouts']==layout]\n",
    "    for meas in measures:\n",
    "        df_subset.sort_values(by=meas, inplace = True, ascending = False)\n",
    "        df_add = df_subset.head(20)\n",
    "        df_add['meas'] = meas\n",
    "        df_output = df_output.append(df_add, ignore_index = True)\n",
    "    filename = 'longest_' + layout + '.csv'\n",
    "    df_output.to_csv(filename, index = False)"
   ]
  },
  {
   "cell_type": "code",
   "execution_count": 65,
   "id": "ec15dd45-ca06-4a47-8941-cee9f5865e56",
   "metadata": {},
   "outputs": [],
   "source": [
    "def shortest(layout):\n",
    "    df_output = pd.DataFrame()\n",
    "    df_subset = df_merged[df_merged['layouts'] == layout]\n",
    "    for i in range(3, 11):\n",
    "        df_len = df_subset[df_subset['length'] == i]\n",
    "        df_len.sort_values(by = 'dist', inplace = True, ascending = True)\n",
    "        df_add = df_len.head(15)\n",
    "        df_output = df_output.append(df_add, ignore_index = True)\n",
    "    filename = 'shortest_' + layout + '.csv'\n",
    "    df_output.to_csv(filename, index = False)"
   ]
  },
  {
   "cell_type": "code",
   "execution_count": 66,
   "id": "8b835d7a-2c20-46c8-b37b-4ee55fdf53cb",
   "metadata": {},
   "outputs": [],
   "source": [
    "for ly in layouts:\n",
    "    analysis(ly)\n",
    "    shortest(ly)"
   ]
  },
  {
   "cell_type": "code",
   "execution_count": null,
   "id": "64e2937d-6c58-40ad-bf08-40e428d74cfb",
   "metadata": {},
   "outputs": [],
   "source": [
    "'''Below this point is still in progress'''\n",
    "\n",
    "\n"
   ]
  },
  {
   "cell_type": "code",
   "execution_count": 37,
   "id": "54aa9703-d779-47dc-a6e3-442a1bfd3c24",
   "metadata": {},
   "outputs": [],
   "source": [
    "df_shortest = pd.DataFrame()\n",
    "for i in range(3, 11):\n",
    "    df_n = shortest(i)\n",
    "    df_shortest = df_shortest.append(df_n, ignore_index = True)\n",
    "df_shortest.to_csv('shortest.csv', index = False)"
   ]
  },
  {
   "cell_type": "code",
   "execution_count": 17,
   "id": "64750b84-4b9d-4af8-9447-fcc0a024bce2",
   "metadata": {},
   "outputs": [],
   "source": [
    "import matplotlib.pyplot as plt\n",
    "import seaborn as sns"
   ]
  },
  {
   "cell_type": "code",
   "execution_count": 24,
   "id": "b36fcaa6-068e-4e87-8d80-1fe979985577",
   "metadata": {},
   "outputs": [
    {
     "name": "stdout",
     "output_type": "stream",
     "text": [
      "   length   words layouts    dist\n",
      "0       2      AA  qwerty    0.00\n",
      "1       3     AAA  qwerty    0.00\n",
      "2       3     AAH  qwerty   95.25\n",
      "3       5   AAHED  qwerty  179.67\n",
      "4       6  AAHING  qwerty  212.92\n",
      "         length      words  layouts     dist\n",
      "169244        9  LAVALAVAS   qwerty   753.61\n",
      "539321        9  LAVALAVAS   dvorak  1326.92\n",
      "909398        9  LAVALAVAS  colemak   649.00\n",
      "1279475       9  LAVALAVAS  workman   746.17\n"
     ]
    }
   ],
   "source": [
    "df_plottable = df.melt(id_vars = ['length', 'words'], value_vars = layouts, var_name = 'layouts', value_name = 'dist')\n",
    "print(df_plottable.head())\n",
    "\n",
    "sampledf = df_plottable[df_plottable['words'] == 'LAVALAVAS']\n",
    "print(sampledf)"
   ]
  },
  {
   "cell_type": "code",
   "execution_count": 26,
   "id": "3d0734b5-f513-4132-8e5d-fbcb2a643946",
   "metadata": {},
   "outputs": [
    {
     "data": {
      "image/png": "[encoded data removed]",
      "text/plain": [
       "<Figure size 432x288 with 1 Axes>"
      ]
     },
     "metadata": {
      "needs_background": "light"
     },
     "output_type": "display_data"
    }
   ],
   "source": [
    "sns.scatterplot(x='length', y='dist', data = df_plottable, hue = 'layouts', alpha = 0.05)\n",
    "\n",
    "#plt.scatter(df['length'], df['qwerty'], color = 'red', alpha = 0.05, label = 'qwerty')\n",
    "#plt.scatter(df['length'], df['dvorak'], color = 'blue', alpha = 0.05, label = 'dvorak')\n",
    "#plt.scatter(df['length'], df['colemak'], color = 'green', alpha = 0.05, label = 'colemak')\n",
    "#plt.scatter(df['length'], df['workman'], color = 'gray', alpha = 0.05, label = 'workman')\n",
    "\n",
    "\n",
    "#plt.xlabel('Word Length (letters)')\n",
    "#plt.ylabel('Travel Distance (mm)')\n",
    "\n",
    "#plt.legend(loc = 'lower right')\n",
    "#plt.title('Keyboard Travel Distance by Word Length')\n",
    "#plt.savefig('scatter.jpg')\n",
    "plt.show()"
   ]
  },
  {
   "cell_type": "code",
   "execution_count": 37,
   "id": "1eeb88b2-e4eb-4163-9bb1-43cb531e5635",
   "metadata": {},
   "outputs": [
    {
     "data": {
      "image/png": "[encoded data removed]",
      "text/plain": [
       "<Figure size 432x288 with 1 Axes>"
      ]
     },
     "metadata": {
      "needs_background": "light"
     },
     "output_type": "display_data"
    }
   ],
   "source": [
    "sns.regplot(x='length', y='dvorak', data=df, color='blue', scatter=None)\n",
    "sns.regplot(x='length', y='qwerty', data=df, color='red', scatter=None)\n",
    "sns.regplot(x='length', y='colemak', data=df, color='green', scatter=None)\n",
    "sns.regplot(x='length', y='workman', data=df, color='gray', scatter=None)\n",
    "\n",
    "plt.show()"
   ]
  },
  {
   "cell_type": "code",
   "execution_count": 15,
   "id": "01de0501-5c84-4ad3-a40e-f356fd8c3c44",
   "metadata": {},
   "outputs": [
    {
     "data": {
      "text/html": [
       "<div>\n",
       "<style scoped>\n",
       "    .dataframe tbody tr th:only-of-type {\n",
       "        vertical-align: middle;\n",
       "    }\n",
       "\n",
       "    .dataframe tbody tr th {\n",
       "        vertical-align: top;\n",
       "    }\n",
       "\n",
       "    .dataframe thead th {\n",
       "        text-align: right;\n",
       "    }\n",
       "</style>\n",
       "<table border=\"1\" class=\"dataframe\">\n",
       "  <thead>\n",
       "    <tr style=\"text-align: right;\">\n",
       "      <th></th>\n",
       "      <th>length</th>\n",
       "      <th>qwerty</th>\n",
       "      <th>dvorak</th>\n",
       "      <th>colemak</th>\n",
       "      <th>workman</th>\n",
       "      <th>qwerty_home</th>\n",
       "      <th>dvorak_home</th>\n",
       "      <th>colemak_home</th>\n",
       "      <th>workman_home</th>\n",
       "      <th>qw_dpl</th>\n",
       "      <th>dv_dpl</th>\n",
       "      <th>co_dpl</th>\n",
       "      <th>wo_dpl</th>\n",
       "      <th>qw_dpj</th>\n",
       "      <th>dv_dpj</th>\n",
       "      <th>co_dpj</th>\n",
       "      <th>wo_dpj</th>\n",
       "    </tr>\n",
       "  </thead>\n",
       "  <tbody>\n",
       "    <tr>\n",
       "      <th>count</th>\n",
       "      <td>370077.000000</td>\n",
       "      <td>370077.000000</td>\n",
       "      <td>370077.000000</td>\n",
       "      <td>370077.000000</td>\n",
       "      <td>370077.000000</td>\n",
       "      <td>370077.000000</td>\n",
       "      <td>370077.000000</td>\n",
       "      <td>370077.000000</td>\n",
       "      <td>370077.000000</td>\n",
       "      <td>370077.000000</td>\n",
       "      <td>370077.000000</td>\n",
       "      <td>370077.000000</td>\n",
       "      <td>370077.000000</td>\n",
       "      <td>370077.000000</td>\n",
       "      <td>370077.000000</td>\n",
       "      <td>370077.000000</td>\n",
       "      <td>370077.00000</td>\n",
       "    </tr>\n",
       "    <tr>\n",
       "      <th>mean</th>\n",
       "      <td>9.443092</td>\n",
       "      <td>540.445125</td>\n",
       "      <td>707.043195</td>\n",
       "      <td>597.513667</td>\n",
       "      <td>622.062303</td>\n",
       "      <td>27.172375</td>\n",
       "      <td>53.505112</td>\n",
       "      <td>62.721841</td>\n",
       "      <td>58.335058</td>\n",
       "      <td>56.456328</td>\n",
       "      <td>73.704833</td>\n",
       "      <td>62.385295</td>\n",
       "      <td>64.814980</td>\n",
       "      <td>63.997423</td>\n",
       "      <td>83.499307</td>\n",
       "      <td>70.696588</td>\n",
       "      <td>73.42246</td>\n",
       "    </tr>\n",
       "    <tr>\n",
       "      <th>std</th>\n",
       "      <td>2.915688</td>\n",
       "      <td>219.999812</td>\n",
       "      <td>281.863394</td>\n",
       "      <td>239.995273</td>\n",
       "      <td>254.363753</td>\n",
       "      <td>14.752540</td>\n",
       "      <td>15.107570</td>\n",
       "      <td>15.085789</td>\n",
       "      <td>14.869272</td>\n",
       "      <td>12.847602</td>\n",
       "      <td>15.212042</td>\n",
       "      <td>13.599593</td>\n",
       "      <td>14.550524</td>\n",
       "      <td>14.581592</td>\n",
       "      <td>16.984693</td>\n",
       "      <td>15.275018</td>\n",
       "      <td>16.23313</td>\n",
       "    </tr>\n",
       "    <tr>\n",
       "      <th>min</th>\n",
       "      <td>2.000000</td>\n",
       "      <td>0.000000</td>\n",
       "      <td>0.000000</td>\n",
       "      <td>0.000000</td>\n",
       "      <td>0.000000</td>\n",
       "      <td>0.000000</td>\n",
       "      <td>0.000000</td>\n",
       "      <td>0.000000</td>\n",
       "      <td>0.000000</td>\n",
       "      <td>0.000000</td>\n",
       "      <td>0.000000</td>\n",
       "      <td>0.000000</td>\n",
       "      <td>0.000000</td>\n",
       "      <td>0.000000</td>\n",
       "      <td>0.000000</td>\n",
       "      <td>0.000000</td>\n",
       "      <td>0.00000</td>\n",
       "    </tr>\n",
       "    <tr>\n",
       "      <th>25%</th>\n",
       "      <td>7.000000</td>\n",
       "      <td>380.520000</td>\n",
       "      <td>503.620000</td>\n",
       "      <td>421.330000</td>\n",
       "      <td>436.150000</td>\n",
       "      <td>16.670000</td>\n",
       "      <td>42.860000</td>\n",
       "      <td>53.850000</td>\n",
       "      <td>50.000000</td>\n",
       "      <td>47.864000</td>\n",
       "      <td>63.850000</td>\n",
       "      <td>53.321000</td>\n",
       "      <td>55.190000</td>\n",
       "      <td>54.266000</td>\n",
       "      <td>72.396000</td>\n",
       "      <td>60.420000</td>\n",
       "      <td>62.58800</td>\n",
       "    </tr>\n",
       "    <tr>\n",
       "      <th>50%</th>\n",
       "      <td>9.000000</td>\n",
       "      <td>517.090000</td>\n",
       "      <td>679.590000</td>\n",
       "      <td>573.590000</td>\n",
       "      <td>595.960000</td>\n",
       "      <td>25.000000</td>\n",
       "      <td>54.550000</td>\n",
       "      <td>63.640000</td>\n",
       "      <td>58.330000</td>\n",
       "      <td>56.344000</td>\n",
       "      <td>74.126000</td>\n",
       "      <td>62.315000</td>\n",
       "      <td>64.611000</td>\n",
       "      <td>63.366000</td>\n",
       "      <td>83.314000</td>\n",
       "      <td>70.142000</td>\n",
       "      <td>72.73200</td>\n",
       "    </tr>\n",
       "    <tr>\n",
       "      <th>75%</th>\n",
       "      <td>11.000000</td>\n",
       "      <td>676.540000</td>\n",
       "      <td>882.710000</td>\n",
       "      <td>749.380000</td>\n",
       "      <td>782.550000</td>\n",
       "      <td>36.360000</td>\n",
       "      <td>63.640000</td>\n",
       "      <td>72.730000</td>\n",
       "      <td>66.670000</td>\n",
       "      <td>64.782000</td>\n",
       "      <td>83.952000</td>\n",
       "      <td>71.402000</td>\n",
       "      <td>74.272000</td>\n",
       "      <td>72.863000</td>\n",
       "      <td>94.298000</td>\n",
       "      <td>80.374000</td>\n",
       "      <td>83.58000</td>\n",
       "    </tr>\n",
       "    <tr>\n",
       "      <th>max</th>\n",
       "      <td>31.000000</td>\n",
       "      <td>2119.490000</td>\n",
       "      <td>2427.090000</td>\n",
       "      <td>2558.520000</td>\n",
       "      <td>2390.000000</td>\n",
       "      <td>100.000000</td>\n",
       "      <td>100.000000</td>\n",
       "      <td>100.000000</td>\n",
       "      <td>100.000000</td>\n",
       "      <td>139.114000</td>\n",
       "      <td>147.436000</td>\n",
       "      <td>127.073000</td>\n",
       "      <td>132.145000</td>\n",
       "      <td>171.450000</td>\n",
       "      <td>181.970000</td>\n",
       "      <td>171.450000</td>\n",
       "      <td>177.24000</td>\n",
       "    </tr>\n",
       "  </tbody>\n",
       "</table>\n",
       "</div>"
      ],
      "text/plain": [
       "              length         qwerty         dvorak        colemak  \\\n",
       "count  370077.000000  370077.000000  370077.000000  370077.000000   \n",
       "mean        9.443092     540.445125     707.043195     597.513667   \n",
       "std         2.915688     219.999812     281.863394     239.995273   \n",
       "min         2.000000       0.000000       0.000000       0.000000   \n",
       "25%         7.000000     380.520000     503.620000     421.330000   \n",
       "50%         9.000000     517.090000     679.590000     573.590000   \n",
       "75%        11.000000     676.540000     882.710000     749.380000   \n",
       "max        31.000000    2119.490000    2427.090000    2558.520000   \n",
       "\n",
       "             workman    qwerty_home    dvorak_home   colemak_home  \\\n",
       "count  370077.000000  370077.000000  370077.000000  370077.000000   \n",
       "mean      622.062303      27.172375      53.505112      62.721841   \n",
       "std       254.363753      14.752540      15.107570      15.085789   \n",
       "min         0.000000       0.000000       0.000000       0.000000   \n",
       "25%       436.150000      16.670000      42.860000      53.850000   \n",
       "50%       595.960000      25.000000      54.550000      63.640000   \n",
       "75%       782.550000      36.360000      63.640000      72.730000   \n",
       "max      2390.000000     100.000000     100.000000     100.000000   \n",
       "\n",
       "        workman_home         qw_dpl         dv_dpl         co_dpl  \\\n",
       "count  370077.000000  370077.000000  370077.000000  370077.000000   \n",
       "mean       58.335058      56.456328      73.704833      62.385295   \n",
       "std        14.869272      12.847602      15.212042      13.599593   \n",
       "min         0.000000       0.000000       0.000000       0.000000   \n",
       "25%        50.000000      47.864000      63.850000      53.321000   \n",
       "50%        58.330000      56.344000      74.126000      62.315000   \n",
       "75%        66.670000      64.782000      83.952000      71.402000   \n",
       "max       100.000000     139.114000     147.436000     127.073000   \n",
       "\n",
       "              wo_dpl         qw_dpj         dv_dpj         co_dpj  \\\n",
       "count  370077.000000  370077.000000  370077.000000  370077.000000   \n",
       "mean       64.814980      63.997423      83.499307      70.696588   \n",
       "std        14.550524      14.581592      16.984693      15.275018   \n",
       "min         0.000000       0.000000       0.000000       0.000000   \n",
       "25%        55.190000      54.266000      72.396000      60.420000   \n",
       "50%        64.611000      63.366000      83.314000      70.142000   \n",
       "75%        74.272000      72.863000      94.298000      80.374000   \n",
       "max       132.145000     171.450000     181.970000     171.450000   \n",
       "\n",
       "             wo_dpj  \n",
       "count  370077.00000  \n",
       "mean       73.42246  \n",
       "std        16.23313  \n",
       "min         0.00000  \n",
       "25%        62.58800  \n",
       "50%        72.73200  \n",
       "75%        83.58000  \n",
       "max       177.24000  "
      ]
     },
     "execution_count": 15,
     "metadata": {},
     "output_type": "execute_result"
    }
   ],
   "source": [
    "df.describe()"
   ]
  }
 ],
 "metadata": {
  "kernelspec": {
   "display_name": "Python 3",
   "language": "python",
   "name": "python3"
  },
  "language_info": {
   "codemirror_mode": {
    "name": "ipython",
    "version": 3
   },
   "file_extension": ".py",
   "mimetype": "text/x-python",
   "name": "python",
   "nbconvert_exporter": "python",
   "pygments_lexer": "ipython3",
   "version": "3.9.4"
  }
 },
 "nbformat": 4,
 "nbformat_minor": 5
}
