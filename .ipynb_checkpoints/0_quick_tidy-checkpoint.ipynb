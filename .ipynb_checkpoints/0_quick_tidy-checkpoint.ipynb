{
 "cells": [
  {
   "cell_type": "code",
   "execution_count": 1,
   "id": "8215ab94-0309-4091-bdac-fd69ee63271b",
   "metadata": {},
   "outputs": [],
   "source": [
    "#just to clean up the data\n",
    "    #get the length of the words which will be used later\n",
    "    #remove 1 character words\n",
    "\n",
    "import pandas as pd\n",
    "\n",
    "#import data into df\n",
    "df = pd.read_csv('src_words_alpha.txt', keep_default_na = False)\n",
    "#put all in uppercase\n",
    "df['words'] = df['words'].str.upper()\n",
    "#get length of words\n",
    "df['length'] = df['words'].str.len()\n",
    "#only grab words longer than 1 character\n",
    "df_new = df[df['length'] > 1]"
   ]
  },
  {
   "cell_type": "code",
   "execution_count": 2,
   "id": "61aabd6f-976a-47de-ae12-c9420c86390a",
   "metadata": {},
   "outputs": [],
   "source": [
    "#save new dataset to csv\n",
    "df_new.to_csv('words_alpha.csv', index = False)"
   ]
  }
 ],
 "metadata": {
  "kernelspec": {
   "display_name": "Python 3",
   "language": "python",
   "name": "python3"
  },
  "language_info": {
   "codemirror_mode": {
    "name": "ipython",
    "version": 3
   },
   "file_extension": ".py",
   "mimetype": "text/x-python",
   "name": "python",
   "nbconvert_exporter": "python",
   "pygments_lexer": "ipython3",
   "version": "3.9.4"
  }
 },
 "nbformat": 4,
 "nbformat_minor": 5
}
